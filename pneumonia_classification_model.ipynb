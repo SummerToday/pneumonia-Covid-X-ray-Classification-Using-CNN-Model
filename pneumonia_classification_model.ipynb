{
  "metadata": {
    "kernelspec": {
      "language": "python",
      "display_name": "Python 3",
      "name": "python3"
    },
    "language_info": {
      "name": "python",
      "version": "3.10.12",
      "mimetype": "text/x-python",
      "codemirror_mode": {
        "name": "ipython",
        "version": 3
      },
      "pygments_lexer": "ipython3",
      "nbconvert_exporter": "python",
      "file_extension": ".py"
    },
    "kaggle": {
      "accelerator": "none",
      "dataSources": [
        {
          "sourceId": 23812,
          "sourceType": "datasetVersion",
          "datasetId": 17810
        },
        {
          "sourceId": 2645,
          "sourceType": "modelInstanceVersion",
          "modelInstanceId": 1911
        }
      ],
      "dockerImageVersionId": 30579,
      "isInternetEnabled": false,
      "language": "python",
      "sourceType": "notebook",
      "isGpuEnabled": false
    },
    "colab": {
      "provenance": []
    }
  },
  "nbformat_minor": 0,
  "nbformat": 4,
  "cells": [
    {
      "cell_type": "code",
      "source": [
        "!ls /path/\n",
        "# http://www.apache.org/licenses/LICENSE-2.0"
      ],
      "metadata": {
        "_uuid": "8f2839f25d086af736a60e9eeb907d3b93b6e0e5",
        "_cell_guid": "b1076dfc-b9ad-4769-8c92-a6c4dae69d19",
        "execution": {
          "iopub.status.busy": "2023-11-19T14:49:22.512718Z",
          "iopub.execute_input": "2023-11-19T14:49:22.513322Z",
          "iopub.status.idle": "2023-11-19T14:49:23.687986Z",
          "shell.execute_reply.started": "2023-11-19T14:49:22.513262Z",
          "shell.execute_reply": "2023-11-19T14:49:23.686351Z"
        },
        "trusted": true,
        "id": "FqZhb5mXFH4K"
      },
      "execution_count": null,
      "outputs": []
    },
    {
      "cell_type": "code",
      "source": [
        "import glob\n",
        "import cv2\n",
        "import numpy as np\n",
        "from sklearn.model_selection import train_test_split\n",
        "import tensorflow\n",
        "from tensorflow.keras.models import load_model\n",
        "from tensorflow.keras.models import Model\n",
        "from tensorflow.keras.layers import Dense, Dropout, Flatten, Input, Reshape\n",
        "from tensorflow.keras.layers import Conv2D, MaxPooling2D\n",
        "from tensorflow.keras.layers import BatchNormalization"
      ],
      "metadata": {
        "execution": {
          "iopub.status.busy": "2023-11-19T14:49:23.690795Z",
          "iopub.execute_input": "2023-11-19T14:49:23.691269Z",
          "iopub.status.idle": "2023-11-19T14:49:39.121676Z",
          "shell.execute_reply.started": "2023-11-19T14:49:23.691223Z",
          "shell.execute_reply": "2023-11-19T14:49:39.120204Z"
        },
        "trusted": true,
        "id": "LcF0b3bfFH4L"
      },
      "execution_count": null,
      "outputs": []
    },
    {
      "cell_type": "code",
      "source": [
        "data_path = 'path'"
      ],
      "metadata": {
        "execution": {
          "iopub.status.busy": "2023-11-19T14:49:39.12378Z",
          "iopub.execute_input": "2023-11-19T14:49:39.125314Z",
          "iopub.status.idle": "2023-11-19T14:49:39.132221Z",
          "shell.execute_reply.started": "2023-11-19T14:49:39.12526Z",
          "shell.execute_reply": "2023-11-19T14:49:39.130715Z"
        },
        "trusted": true,
        "id": "GeEh6QJjFH4M"
      },
      "execution_count": null,
      "outputs": []
    },
    {
      "cell_type": "code",
      "source": [
        "size = 128\n",
        "x_train, y_train = [], []\n",
        "x_test, y_test = [], []\n",
        "x_val, y_val = [], []\n",
        "\n",
        "for data_split in ['train', 'test', 'val']:\n",
        "    split_path = data_path + data_split + '/'\n",
        "\n",
        "    for label in ['NORMAL', 'PNEUMONIA']:\n",
        "        label_path = split_path + label + '/'\n",
        "\n",
        "        image_files = glob.glob(label_path + '*.jpeg')\n",
        "\n",
        "        for image_file in image_files:\n",
        "            image = cv2.imread(image_file)\n",
        "            image = cv2.resize(image, (size, size), interpolation = cv2.INTER_AREA)\n",
        "            if data_split == 'train':\n",
        "                x_train.append(image)\n",
        "                y_train.append(0 if label == 'NORMAL' else 1)\n",
        "            elif data_split == 'test':\n",
        "                x_test.append(image)\n",
        "                y_test.append(0 if label == 'NORMAL' else 1)\n",
        "            else:\n",
        "                x_val.append(image)\n",
        "                y_val.append(0 if label == 'NORMAL' else 1)"
      ],
      "metadata": {
        "execution": {
          "iopub.status.busy": "2023-11-19T14:51:02.244837Z",
          "iopub.execute_input": "2023-11-19T14:51:02.245321Z",
          "iopub.status.idle": "2023-11-19T14:54:01.479583Z",
          "shell.execute_reply.started": "2023-11-19T14:51:02.245288Z",
          "shell.execute_reply": "2023-11-19T14:54:01.478357Z"
        },
        "trusted": true,
        "id": "jElgfDdBFH4M"
      },
      "execution_count": null,
      "outputs": []
    },
    {
      "cell_type": "code",
      "source": [
        "\n",
        "x_train = np.array(x_train, dtype = 'float32')\n",
        "x_test = np.array(x_test, dtype = 'float32')\n",
        "x_val = np.array(x_val, dtype = 'float32')\n",
        "y_train = np.array(y_train, dtype = 'int32')\n",
        "y_test = np.array(y_test, dtype = 'int32')\n",
        "y_val = np.array(y_val, dtype = 'int32')\n",
        "\n",
        "\n",
        "x_train_scaled = x_train / 255.0\n",
        "x_test_scaled = x_test / 255.0\n",
        "x_val_scaled = x_val / 255.0\n",
        "\n",
        "print(x_train.shape)"
      ],
      "metadata": {
        "execution": {
          "iopub.status.busy": "2023-11-19T14:54:07.296375Z",
          "iopub.execute_input": "2023-11-19T14:54:07.296851Z",
          "iopub.status.idle": "2023-11-19T14:54:08.590116Z",
          "shell.execute_reply.started": "2023-11-19T14:54:07.296819Z",
          "shell.execute_reply": "2023-11-19T14:54:08.588372Z"
        },
        "trusted": true,
        "id": "HLGzC7XOFH4M"
      },
      "execution_count": null,
      "outputs": []
    },
    {
      "cell_type": "code",
      "source": [
        "#CNN model\n",
        "inp = Input(shape=(128,128,3))\n",
        "cnn = Conv2D(filters=8, kernel_size = 3, activation='relu')(inp)\n",
        "pooling = MaxPooling2D(pool_size=(2,2))(cnn)\n",
        "drop = Dropout(0.2)(pooling)\n",
        "\n",
        "cnn = Conv2D(filters=16, kernel_size = 4, activation='relu')(drop)\n",
        "cnn = BatchNormalization()(cnn)\n",
        "pooling = MaxPooling2D(pool_size=(2,2))(cnn)\n",
        "drop = Dropout(0.2)(pooling)\n",
        "\n",
        "cnn = Conv2D(filters=32, kernel_size = 4, activation='relu')(drop)\n",
        "pooling = MaxPooling2D(pool_size=(2,2))(cnn)\n",
        "\n",
        "f = Flatten()(pooling)\n",
        "\n",
        "fc1 = Dense(units=256, activation='relu') (f)\n",
        "fc2 = Dense(units=16, activation='relu') (fc1)\n",
        "out = Dense(units=1, activation='sigmoid') (fc2)\n",
        "\n",
        "model = Model(inputs = inp, outputs = out)\n",
        "model.summary()"
      ],
      "metadata": {
        "execution": {
          "iopub.status.busy": "2023-11-19T15:30:37.183926Z",
          "iopub.execute_input": "2023-11-19T15:30:37.184744Z",
          "iopub.status.idle": "2023-11-19T15:30:37.37624Z",
          "shell.execute_reply.started": "2023-11-19T15:30:37.1847Z",
          "shell.execute_reply": "2023-11-19T15:30:37.374886Z"
        },
        "trusted": true,
        "id": "rC8JeypNFH4N"
      },
      "execution_count": null,
      "outputs": []
    },
    {
      "cell_type": "code",
      "source": [
        "from IPython.core import history\n",
        "optimizer1 = tensorflow.keras.optimizers.Adam(learning_rate=0.0001)\n",
        "model.compile(optimizer=optimizer1, loss='binary_crossentropy', metrics=['accuracy'])\n",
        "\n",
        "history = model.fit(x_train_scaled, y_train, batch_size=64, epochs=30,\n",
        "                    validation_data=(x_test_scaled, y_test))"
      ],
      "metadata": {
        "execution": {
          "iopub.status.busy": "2023-11-19T15:30:54.248513Z",
          "iopub.execute_input": "2023-11-19T15:30:54.248943Z",
          "iopub.status.idle": "2023-11-19T15:48:20.116892Z",
          "shell.execute_reply.started": "2023-11-19T15:30:54.24891Z",
          "shell.execute_reply": "2023-11-19T15:48:20.115872Z"
        },
        "trusted": true,
        "id": "B7yIz1ZzFH4N"
      },
      "execution_count": null,
      "outputs": []
    },
    {
      "cell_type": "code",
      "source": [
        "from matplotlib import pyplot as plt\n",
        "plt.plot(history.history['accuracy'])\n",
        "plt.plot(history.history['val_accuracy'])\n",
        "plt.title('model accuracy')\n",
        "plt.ylabel('accuracy')\n",
        "plt.xlabel('epoch')\n",
        "plt.legend(['train', 'test'], loc='upper left')\n",
        "plt.show()\n",
        "\n",
        "plt.plot(history.history['loss'])\n",
        "plt.plot(history.history['val_loss'])\n",
        "plt.title('model loss')\n",
        "plt.ylabel('loss')\n",
        "plt.xlabel('epoch')\n",
        "plt.legend(['train', 'test'], loc='upper left')\n",
        "plt.show()"
      ],
      "metadata": {
        "execution": {
          "iopub.status.busy": "2023-11-19T15:48:25.56996Z",
          "iopub.execute_input": "2023-11-19T15:48:25.570365Z",
          "iopub.status.idle": "2023-11-19T15:48:26.295561Z",
          "shell.execute_reply.started": "2023-11-19T15:48:25.570335Z",
          "shell.execute_reply": "2023-11-19T15:48:26.294106Z"
        },
        "trusted": true,
        "id": "AgkpoJOuFH4O"
      },
      "execution_count": null,
      "outputs": []
    },
    {
      "cell_type": "code",
      "source": [
        "model.save('model2.h5')"
      ],
      "metadata": {
        "execution": {
          "iopub.status.busy": "2023-11-19T15:49:18.801256Z",
          "iopub.execute_input": "2023-11-19T15:49:18.801755Z",
          "iopub.status.idle": "2023-11-19T15:49:18.886777Z",
          "shell.execute_reply.started": "2023-11-19T15:49:18.801722Z",
          "shell.execute_reply": "2023-11-19T15:49:18.885268Z"
        },
        "trusted": true,
        "id": "uoxJCrk8FH4O"
      },
      "execution_count": null,
      "outputs": []
    },
    {
      "cell_type": "code",
      "source": [
        "from tensorflow.keras.models import load_model\n",
        "model1 = load_model('/kaggle/working/model2.h5')"
      ],
      "metadata": {
        "execution": {
          "iopub.status.busy": "2023-11-19T15:49:23.290634Z",
          "iopub.execute_input": "2023-11-19T15:49:23.291059Z",
          "iopub.status.idle": "2023-11-19T15:49:23.571828Z",
          "shell.execute_reply.started": "2023-11-19T15:49:23.291027Z",
          "shell.execute_reply": "2023-11-19T15:49:23.569568Z"
        },
        "trusted": true,
        "id": "3RpLrhp0FH4O"
      },
      "execution_count": null,
      "outputs": []
    },
    {
      "cell_type": "code",
      "source": [
        "y_guess = model1.predict(x_test_scaled)\n"
      ],
      "metadata": {
        "execution": {
          "iopub.status.busy": "2023-11-19T15:49:51.722461Z",
          "iopub.execute_input": "2023-11-19T15:49:51.722965Z",
          "iopub.status.idle": "2023-11-19T15:49:53.518051Z",
          "shell.execute_reply.started": "2023-11-19T15:49:51.72293Z",
          "shell.execute_reply": "2023-11-19T15:49:53.516634Z"
        },
        "trusted": true,
        "id": "x4UrQoEVFH4O"
      },
      "execution_count": null,
      "outputs": []
    },
    {
      "cell_type": "code",
      "source": [
        "def predict(y_guess):\n",
        "    for i in range(len(y_guess)):\n",
        "        y_guess[i] = 0 if y_guess[i] < 0.5 else 1\n",
        "    return y_guess"
      ],
      "metadata": {
        "execution": {
          "iopub.status.busy": "2023-11-19T15:50:00.774592Z",
          "iopub.execute_input": "2023-11-19T15:50:00.775049Z",
          "iopub.status.idle": "2023-11-19T15:50:00.781878Z",
          "shell.execute_reply.started": "2023-11-19T15:50:00.775014Z",
          "shell.execute_reply": "2023-11-19T15:50:00.780227Z"
        },
        "trusted": true,
        "id": "G6pbOUMDFH4O"
      },
      "execution_count": null,
      "outputs": []
    },
    {
      "cell_type": "code",
      "source": [
        "y_pre = predict(y_guess)"
      ],
      "metadata": {
        "execution": {
          "iopub.status.busy": "2023-11-19T15:50:03.164832Z",
          "iopub.execute_input": "2023-11-19T15:50:03.165332Z",
          "iopub.status.idle": "2023-11-19T15:50:03.174315Z",
          "shell.execute_reply.started": "2023-11-19T15:50:03.165295Z",
          "shell.execute_reply": "2023-11-19T15:50:03.173045Z"
        },
        "trusted": true,
        "id": "JSitxUeqFH4O"
      },
      "execution_count": null,
      "outputs": []
    },
    {
      "cell_type": "code",
      "source": [
        "import sklearn\n",
        "import seaborn as sns\n",
        "\n",
        "\n",
        "cm = sklearn.metrics.confusion_matrix(y_test, y_pre)\n",
        "\n",
        "\n",
        "plt.figure()\n",
        "sns.heatmap(cm, annot=True, fmt='d', cmap='Reds')\n",
        "plt.title('Confusion Matrix')\n",
        "plt.xlabel('Predicted')\n",
        "plt.ylabel('True')\n",
        "plt.show()"
      ],
      "metadata": {
        "execution": {
          "iopub.status.busy": "2023-11-19T15:50:06.182342Z",
          "iopub.execute_input": "2023-11-19T15:50:06.183339Z",
          "iopub.status.idle": "2023-11-19T15:50:06.748097Z",
          "shell.execute_reply.started": "2023-11-19T15:50:06.183287Z",
          "shell.execute_reply": "2023-11-19T15:50:06.747162Z"
        },
        "trusted": true,
        "id": "mwn997SkFH4P"
      },
      "execution_count": null,
      "outputs": []
    },
    {
      "cell_type": "code",
      "source": [
        "from sklearn.metrics import accuracy_score, precision_score, recall_score, f1_score\n",
        "\n",
        "accuracy = accuracy_score(y_test, y_pre)\n",
        "precision = precision_score(y_test, y_pre)\n",
        "recall = recall_score(y_test, y_pre)\n",
        "f1 =f1_score(y_test, y_pre)\n",
        "\n",
        "print(f\"Accuracy: {accuracy:.2f}\")\n",
        "print(f\"Precision: {precision:.2f}\")\n",
        "print(f\"Recall: {recall:.2f}\")\n",
        "print(f\"F1 Score: {f1:.2f}\")"
      ],
      "metadata": {
        "execution": {
          "iopub.status.busy": "2023-11-19T15:50:09.689368Z",
          "iopub.execute_input": "2023-11-19T15:50:09.690094Z",
          "iopub.status.idle": "2023-11-19T15:50:09.709766Z",
          "shell.execute_reply.started": "2023-11-19T15:50:09.690057Z",
          "shell.execute_reply": "2023-11-19T15:50:09.708502Z"
        },
        "trusted": true,
        "id": "2c3LYoOZFH4P"
      },
      "execution_count": null,
      "outputs": []
    },
    {
      "cell_type": "code",
      "source": [
        "from tensorflow.keras.models import Sequential"
      ],
      "metadata": {
        "execution": {
          "iopub.status.busy": "2023-11-19T15:50:29.299607Z",
          "iopub.execute_input": "2023-11-19T15:50:29.300801Z",
          "iopub.status.idle": "2023-11-19T15:50:29.307374Z",
          "shell.execute_reply.started": "2023-11-19T15:50:29.300738Z",
          "shell.execute_reply": "2023-11-19T15:50:29.305671Z"
        },
        "trusted": true,
        "id": "UShYaancFH4P"
      },
      "execution_count": null,
      "outputs": []
    },
    {
      "cell_type": "code",
      "source": [
        "\n",
        "model_path = 'path'\n",
        "\n",
        "\n",
        "loaded_model = tensorflow.keras.models.load_model(model_path)"
      ],
      "metadata": {
        "execution": {
          "iopub.status.busy": "2023-11-19T15:55:28.523309Z",
          "iopub.execute_input": "2023-11-19T15:55:28.52384Z",
          "iopub.status.idle": "2023-11-19T15:56:26.675616Z",
          "shell.execute_reply.started": "2023-11-19T15:55:28.523776Z",
          "shell.execute_reply": "2023-11-19T15:56:26.67373Z"
        },
        "trusted": true,
        "id": "F79VXdQTFH4P"
      },
      "execution_count": null,
      "outputs": []
    },
    {
      "cell_type": "code",
      "source": [
        "model = Sequential()\n",
        "\n",
        "model.add(loaded_model)\n",
        "\n",
        "for layer in loaded_model.layers:\n",
        "    layer.trainable = False\n",
        "\n",
        "model.add(Flatten())\n",
        "\n",
        "model.add(Dense(units = 256, activation ='relu'))\n",
        "model.add(Dense(units = 16, activation ='relu'))\n",
        "model.add(Dropout(0.5))\n",
        "model.add(BatchNormalization())\n",
        "model.add(Dense(units = 1, activation = 'sigmoid'))\n",
        "model.summary()\n"
      ],
      "metadata": {
        "execution": {
          "iopub.status.busy": "2023-11-19T15:56:29.809523Z",
          "iopub.execute_input": "2023-11-19T15:56:29.81025Z",
          "iopub.status.idle": "2023-11-19T15:56:31.217322Z",
          "shell.execute_reply.started": "2023-11-19T15:56:29.810184Z",
          "shell.execute_reply": "2023-11-19T15:56:31.215423Z"
        },
        "trusted": true,
        "id": "ZFeWlajfFH4P"
      },
      "execution_count": null,
      "outputs": []
    },
    {
      "cell_type": "code",
      "source": [
        "from IPython.core import history\n",
        "optimizer1 = tensorflow.keras.optimizers.Adam(learning_rate=0.0001)\n",
        "model.compile(optimizer=optimizer1, loss='binary_crossentropy', metrics=['accuracy'])\n",
        "\n",
        "history = model.fit(x_train_scaled, y_train, batch_size=64, epochs=30,\n",
        "                    validation_data=(x_test_scaled, y_test))"
      ],
      "metadata": {
        "execution": {
          "iopub.status.busy": "2023-11-19T15:57:08.261266Z",
          "iopub.execute_input": "2023-11-19T15:57:08.26169Z",
          "iopub.status.idle": "2023-11-19T16:38:24.577885Z",
          "shell.execute_reply.started": "2023-11-19T15:57:08.261658Z",
          "shell.execute_reply": "2023-11-19T16:38:24.575581Z"
        },
        "trusted": true,
        "id": "zWtA8TDVFH4P"
      },
      "execution_count": null,
      "outputs": []
    },
    {
      "cell_type": "code",
      "source": [
        "from matplotlib import pyplot as plt\n",
        "plt.plot(history.history['accuracy'])\n",
        "plt.plot(history.history['val_accuracy'])\n",
        "plt.title('model accuracy')\n",
        "plt.ylabel('accuracy')\n",
        "plt.xlabel('epoch')\n",
        "plt.legend(['train', 'test'], loc='upper left')\n",
        "plt.show()\n",
        "\n",
        "plt.plot(history.history['loss'])\n",
        "plt.plot(history.history['val_loss'])\n",
        "plt.title('model loss')\n",
        "plt.ylabel('loss')\n",
        "plt.xlabel('epoch')\n",
        "plt.legend(['train', 'test'], loc='upper left')\n",
        "plt.show()"
      ],
      "metadata": {
        "execution": {
          "iopub.status.busy": "2023-11-19T16:38:42.474469Z",
          "iopub.execute_input": "2023-11-19T16:38:42.475514Z",
          "iopub.status.idle": "2023-11-19T16:38:43.138218Z",
          "shell.execute_reply.started": "2023-11-19T16:38:42.475468Z",
          "shell.execute_reply": "2023-11-19T16:38:43.136702Z"
        },
        "trusted": true,
        "id": "ZBCXNzJ7FH4P"
      },
      "execution_count": null,
      "outputs": []
    },
    {
      "cell_type": "code",
      "source": [
        "model.save('pretrain_1.h5')\n"
      ],
      "metadata": {
        "execution": {
          "iopub.status.busy": "2023-11-19T16:39:13.548125Z",
          "iopub.execute_input": "2023-11-19T16:39:13.548559Z",
          "iopub.status.idle": "2023-11-19T16:39:13.981172Z",
          "shell.execute_reply.started": "2023-11-19T16:39:13.548527Z",
          "shell.execute_reply": "2023-11-19T16:39:13.980274Z"
        },
        "trusted": true,
        "id": "dx61ASFpFH4P"
      },
      "execution_count": null,
      "outputs": []
    },
    {
      "cell_type": "code",
      "source": [
        "y_guess2 = model.predict(x_test_scaled)\n"
      ],
      "metadata": {
        "execution": {
          "iopub.status.busy": "2023-11-19T16:40:47.451075Z",
          "iopub.execute_input": "2023-11-19T16:40:47.451649Z",
          "iopub.status.idle": "2023-11-19T16:40:56.356219Z",
          "shell.execute_reply.started": "2023-11-19T16:40:47.451607Z",
          "shell.execute_reply": "2023-11-19T16:40:56.35486Z"
        },
        "trusted": true,
        "id": "FsOnD7OZFH4Q"
      },
      "execution_count": null,
      "outputs": []
    },
    {
      "cell_type": "code",
      "source": [
        "y_pre2 = predict(y_guess2)\n"
      ],
      "metadata": {
        "execution": {
          "iopub.status.busy": "2023-11-19T16:41:09.556161Z",
          "iopub.execute_input": "2023-11-19T16:41:09.556573Z",
          "iopub.status.idle": "2023-11-19T16:41:09.565437Z",
          "shell.execute_reply.started": "2023-11-19T16:41:09.556543Z",
          "shell.execute_reply": "2023-11-19T16:41:09.563763Z"
        },
        "trusted": true,
        "id": "qenM_iU3FH4Q"
      },
      "execution_count": null,
      "outputs": []
    },
    {
      "cell_type": "code",
      "source": [
        "import sklearn\n",
        "import seaborn as sns\n",
        "\n",
        "\n",
        "# Tạo confusion matrix\n",
        "cm = sklearn.metrics.confusion_matrix(y_test, y_pre2)\n",
        "\n",
        "# Vẽ confusion matrix\n",
        "plt.figure()\n",
        "sns.heatmap(cm, annot=True, fmt='d', cmap='Reds')\n",
        "plt.title('Confusion Matrix')\n",
        "plt.xlabel('Predicted')\n",
        "plt.ylabel('True')\n",
        "plt.show()"
      ],
      "metadata": {
        "execution": {
          "iopub.status.busy": "2023-11-19T16:41:12.484056Z",
          "iopub.execute_input": "2023-11-19T16:41:12.485103Z",
          "iopub.status.idle": "2023-11-19T16:41:12.843304Z",
          "shell.execute_reply.started": "2023-11-19T16:41:12.485055Z",
          "shell.execute_reply": "2023-11-19T16:41:12.842032Z"
        },
        "trusted": true,
        "id": "VSOdlt78FH4Q"
      },
      "execution_count": null,
      "outputs": []
    },
    {
      "cell_type": "code",
      "source": [
        "from sklearn.metrics import accuracy_score, precision_score, recall_score, f1_score\n",
        "\n",
        "accuracy = accuracy_score(y_test, y_pre2)\n",
        "precision = precision_score(y_test, y_pre2)\n",
        "recall = recall_score(y_test, y_pre2)\n",
        "f1 =f1_score(y_test, y_pre2)\n",
        "\n",
        "print(f\"Accuracy: {accuracy:.2f}\")\n",
        "print(f\"Precision: {precision:.2f}\")\n",
        "print(f\"Recall: {recall:.2f}\")\n",
        "print(f\"F1 Score: {f1:.2f}\")"
      ],
      "metadata": {
        "execution": {
          "iopub.status.busy": "2023-11-19T16:41:20.814274Z",
          "iopub.execute_input": "2023-11-19T16:41:20.81469Z",
          "iopub.status.idle": "2023-11-19T16:41:20.835843Z",
          "shell.execute_reply.started": "2023-11-19T16:41:20.81466Z",
          "shell.execute_reply": "2023-11-19T16:41:20.834383Z"
        },
        "trusted": true,
        "id": "DznhKZg5FH4Q"
      },
      "execution_count": null,
      "outputs": []
    }
  ]
}